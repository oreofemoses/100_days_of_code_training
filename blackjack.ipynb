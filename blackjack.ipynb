{
 "cells": [
  {
   "cell_type": "markdown",
   "metadata": {},
   "source": [
    "# Blackjack Capstone "
   ]
  },
  {
   "cell_type": "code",
   "execution_count": 1,
   "metadata": {},
   "outputs": [
    {
     "name": "stdout",
     "output_type": "stream",
     "text": [
      "\n",
      ".------.            _     _            _    _            _    \n",
      "|A_  _ |.          | |   | |          | |  (_)          | |   \n",
      "|( \\/ ).-----.     | |__ | | __ _  ___| | ___  __ _  ___| | __\n",
      "| \\  /|K /\\  |     | '_ \\| |/ _` |/ __| |/ / |/ _` |/ __| |/ /\n",
      "|  \\/ | /  \\ |     | |_) | | (_| | (__|   <| | (_| | (__|   < \n",
      "`-----| \\  / |     |_.__/|_|\\__,_|\\___|_|\\_\\ |\\__,_|\\___|_|\\_\\\n",
      "      |  \\/ K|                            _/ |                \n",
      "      `------'                           |__/           \n",
      "\n",
      "Your hand: [2, 2]\n",
      "Computer's First Card: 2\n",
      "Your final hand [2, 2]\n",
      "Computer's Final Hand [2, 2]\n",
      "\n",
      "4 4\n"
     ]
    }
   ],
   "source": [
    "############### Blackjack Project #####################\n",
    "\n",
    "#Difficulty Normal 😎: Use all Hints below to complete the project.\n",
    "#Difficulty Hard 🤔: Use only Hints 1, 2, 3 to complete the project.\n",
    "#Difficulty Extra Hard 😭: Only use Hints 1 & 2 to complete the project.\n",
    "#Difficulty Expert 🤯: Only use Hint 1 to complete the project.\n",
    "\n",
    "############### Our Blackjack House Rules #####################\n",
    "\n",
    "## The deck is unlimited in size. \n",
    "## There are no jokers. \n",
    "## The Jack/Queen/King all count as 10.\n",
    "## The the Ace can count as 11 or 1.\n",
    "## Use the following list as the deck of cards:\n",
    "## cards = [11, 2, 3, 4, 5, 6, 7, 8, 9, 10, 10, 10, 10]\n",
    "## The cards in the list have equal probability of being drawn.\n",
    "## Cards are not removed from the deck as they are drawn.\n",
    "## The computer is the dealer.\n",
    "\n",
    "##################### Hints #####################\n",
    "def dealer(cards):\n",
    "    deal = []\n",
    "    for i in range(2):\n",
    "        card = random.choice(cards)\n",
    "        if card == 1 and sum(deal) + 11 < 21:\n",
    "            deal.append(11)\n",
    "        elif card == 1 and sum(deal) + 11 > 21:\n",
    "            deal.append(1)\n",
    "        else:\n",
    "            deal.append(card)\n",
    "    return deal\n",
    "\n",
    "\n",
    "import random\n",
    "cards = [11, 2, 3, 4, 5, 6, 7, 8, 9, 10, 10, 10, 10]\n",
    "answer = 'y'\n",
    "logo = \"\"\"\n",
    ".------.            _     _            _    _            _    \n",
    "|A_  _ |.          | |   | |          | |  (_)          | |   \n",
    "|( \\/ ).-----.     | |__ | | __ _  ___| | ___  __ _  ___| | __\n",
    "| \\  /|K /\\  |     | '_ \\| |/ _` |/ __| |/ / |/ _` |/ __| |/ /\n",
    "|  \\/ | /  \\ |     | |_) | | (_| | (__|   <| | (_| | (__|   < \n",
    "`-----| \\  / |     |_.__/|_|\\__,_|\\___|_|\\_\\ |\\__,_|\\___|_|\\_\\\\\n",
    "      |  \\/ K|                            _/ |                \n",
    "      `------'                           |__/           \n",
    "\"\"\"\n",
    "       \n",
    "print(logo)\n",
    "while answer == 'y':\n",
    "    players_hand = [2,2]\n",
    "    computers_hand = [2,2]\n",
    "\n",
    "    print(f\"Your hand: {players_hand}\")\n",
    "    print(f\"Computer's First Card: {computers_hand[0]}\")\n",
    "\n",
    "    more_card_player = input(\"Type 'y' to get another card and 'n' to pass: \" )\n",
    "\n",
    "    if more_card_player.lower() == 'y': players_hand.append(random.choice(cards))\n",
    "\n",
    "    print(f\"Your final hand {players_hand}\\nComputer's Final Hand {computers_hand}\\n\")\n",
    "    if sum(players_hand) > sum(computers_hand):\n",
    "        if sum(players_hand) > 21 and sum(computers_hand) < 21:\n",
    "            print(\"You lose!\")\n",
    "        else:\n",
    "            print(\"You win!\")\n",
    "    elif sum(players_hand) < sum(computers_hand):\n",
    "        if sum(players_hand) < 21 and sum(computers_hand) > 21:\n",
    "            print(\"You win\")\n",
    "        else:\n",
    "            print(\"You Lose!\")\n",
    "    else:\n",
    "        print(\"Its a Tie!\")\n",
    "    answer = input(\"Type 'y' to play another game and 'n' to exit: \").lower()"
   ]
  },
  {
   "cell_type": "code",
   "execution_count": null,
   "metadata": {},
   "outputs": [],
   "source": []
  }
 ],
 "metadata": {
  "kernelspec": {
   "display_name": "Python 3",
   "language": "python",
   "name": "python3"
  },
  "language_info": {
   "codemirror_mode": {
    "name": "ipython",
    "version": 3
   },
   "file_extension": ".py",
   "mimetype": "text/x-python",
   "name": "python",
   "nbconvert_exporter": "python",
   "pygments_lexer": "ipython3",
   "version": "3.10.11"
  }
 },
 "nbformat": 4,
 "nbformat_minor": 2
}
