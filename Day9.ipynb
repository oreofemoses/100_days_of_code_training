{
 "cells": [
  {
   "cell_type": "markdown",
   "metadata": {},
   "source": [
    "# Day 9_1\n",
    "### Grading Program\n",
    "#### Instructions\n",
    "You have access to a database of student_scores in the format of a dictionary. The keys in student_scores are the names of the students and the values are their exam scores.\n",
    "\n",
    "Write a program that converts their scores to grades. By the end of your program, you should have a new dictionary called student_grades that should contain student names for keys and their grades for values. The final version of the student_grades dictionary will be checked.\n",
    "\n",
    "DO NOT modify lines 1-7 to change the existing student_scores dictionary.\n",
    "\n",
    "DO NOT write any print statements.\n",
    "\n",
    "This is the scoring criteria:\n",
    "\n",
    "Scores 91 - 100: Grade = \"Outstanding\"\n",
    "\n",
    "Scores 81 - 90: Grade = \"Exceeds Expectations\"\n",
    "\n",
    "Scores 71 - 80: Grade = \"Acceptable\"\n",
    "\n",
    "Scores 70 or lower: Grade = \"Fail\"\n",
    "\n",
    "Expected Output\n",
    "'{'Harry': 'Exceeds Expectations', 'Ron': 'Acceptable', 'Hermione': 'Outstanding', 'Draco': 'Acceptable', 'Neville': 'Fail'}'"
   ]
  },
  {
   "cell_type": "code",
   "execution_count": 3,
   "metadata": {},
   "outputs": [
    {
     "name": "stdout",
     "output_type": "stream",
     "text": [
      "{'Harry': 'Exceeds Expectations', 'Ron': 'Acceptable', 'Hermione': 'Outstanding', 'Draco': 'Acceptable', 'Neville': 'Fail'}\n"
     ]
    }
   ],
   "source": [
    "student_scores = {\n",
    "  \"Harry\": 81,\n",
    "  \"Ron\": 78,\n",
    "  \"Hermione\": 99, \n",
    "  \"Draco\": 74,\n",
    "  \"Neville\": 62,\n",
    "}\n",
    "# 🚨 Don't change the code above 👆\n",
    "\n",
    "#TODO-1: Create an empty dictionary called student_grades.\n",
    "student_grades = {}\n",
    "\n",
    "#TODO-2: Write your code below to add the grades to student_grades.👇\n",
    "for student in student_scores.keys():\n",
    "    if 91 <= student_scores[student] <= 100: student_grades[student] = \"Outstanding\"\n",
    "    elif 81 <= student_scores[student] <= 90: student_grades[student] = \"Exceeds Expectations\"\n",
    "    elif 71 <= student_scores[student] <= 80: student_grades[student] = \"Acceptable\"\n",
    "    elif student_scores[student] <= 70: student_grades[student] = \"Fail\"\n",
    "    else: print(\"Invalid student score.\")\n",
    "    \n",
    "\n",
    "# 🚨 Don't change the code below 👇\n",
    "print(student_grades)\n",
    "\n",
    "\n",
    "\n",
    "\n",
    "\n"
   ]
  },
  {
   "cell_type": "markdown",
   "metadata": {},
   "source": [
    "# Day 9_2\n",
    "You are going to write a program that adds to a travel_log. You can see a travel_log which is a List that contains 2 Dictionaries.\n",
    "\n",
    "Write a function that will work with the following line of code on line 21 to add the entry for Russia to the travel_log.\n",
    "\n",
    "add_new_country(\"Russia\", 2, [\"Moscow\", \"Saint Petersburg\"])\n",
    "You've visited Russia 2 times.\n",
    "\n",
    "You've been to Moscow and Saint Petersburg.\n",
    "\n",
    "DO NOT modify the travel_log directly. You need to create a function that modifies it."
   ]
  },
  {
   "cell_type": "code",
   "execution_count": 2,
   "metadata": {},
   "outputs": [
    {
     "name": "stdout",
     "output_type": "stream",
     "text": [
      "[{'country': 'France', 'visits': 12, 'cities': ['Paris', 'Lille', 'Dijon']}, {'country': 'Germany', 'visits': 5, 'cities': ['Berlin', 'Hamburg', 'Stuttgart']}, {'country': 'Russia', 'visits': 2, 'cities': ['Moscow', 'Saint Petersburg']}]\n"
     ]
    }
   ],
   "source": [
    "travel_log = [\n",
    "{\n",
    "  \"country\": \"France\",\n",
    "  \"visits\": 12,\n",
    "  \"cities\": [\"Paris\", \"Lille\", \"Dijon\"]\n",
    "},\n",
    "{\n",
    "  \"country\": \"Germany\",\n",
    "  \"visits\": 5,\n",
    "  \"cities\": [\"Berlin\", \"Hamburg\", \"Stuttgart\"]\n",
    "},\n",
    "]\n",
    "#🚨 Do NOT change the code above\n",
    "\n",
    "#TODO: Write the function that will allow new countries\n",
    "#to be added to the travel_log. 👇\n",
    "def add_new_country (country, visits, cities):\n",
    "    travel_log.append({\n",
    "  \"country\": country,\n",
    "  \"visits\": visits,\n",
    "  \"cities\": cities})\n",
    "\n",
    "\n",
    "\n",
    "\n",
    "#🚨 Do not change the code below\n",
    "add_new_country(\"Russia\", 2, [\"Moscow\", \"Saint Petersburg\"])\n",
    "print(travel_log)\n",
    "\n",
    "\n",
    "\n"
   ]
  },
  {
   "cell_type": "markdown",
   "metadata": {},
   "source": [
    "# Blind Auction\n",
    "### Instructions\n",
    "The objective is to write a program that will collect the names and bids of different people. \n",
    "\n",
    "The program should ask for each bidder's name and their bid individually.\n",
    "\n",
    "Welcome to the secret auction program.\n",
    "\n",
    "What is your name?: Angela\n",
    "\n",
    "What's your bid?: $123\n",
    "\n",
    "Are there any other bidders? Type 'yes' or 'no'.\n",
    "\n",
    "yes\n",
    "If there are other bidders, the screen should clear, so you can pass your phone to the next person. \n",
    "\n",
    "If there are no more bidders, then the program should display the name of the winner and their winning bid.\n",
    "\n",
    "The winner is Elon with a bid of $55000000000\n",
    "\n",
    "Use your knowledge of Python dictionaries and loops to solve this challenge."
   ]
  },
  {
   "cell_type": "code",
   "execution_count": 10,
   "metadata": {},
   "outputs": [
    {
     "name": "stdout",
     "output_type": "stream",
     "text": [
      "moses won the auction with a bid of $10.0\n",
      "dav won the auction with a bid of $10.0\n"
     ]
    }
   ],
   "source": [
    "from IPython.display import clear_output\n",
    "answer = 'yes'\n",
    "bids = {}\n",
    "winners = []\n",
    "while answer == 'yes':\n",
    "    name = input(\"What is your name?: \")\n",
    "    bid = float(input(\"What is your bid?: \"))\n",
    "    bids[name] = bid\n",
    "    answer = input(\"Are there any other bidders? Type 'yes' or 'no' : \").lower()\n",
    "    clear_output(wait=True)\n",
    "\n",
    "\n",
    "for name in bids.keys():\n",
    "    if bids[name] == max(bids.values()): \n",
    "        print(f\"{name} won the auction with a bid of ${bids[name]}\")\n",
    "\n",
    "\n",
    "#Althought there could be actions we could take in the case of multiple wiining bids but to keep things simple \n",
    "#We will simply print them.\n",
    "    "
   ]
  }
 ],
 "metadata": {
  "kernelspec": {
   "display_name": "Python 3",
   "language": "python",
   "name": "python3"
  },
  "language_info": {
   "codemirror_mode": {
    "name": "ipython",
    "version": 3
   },
   "file_extension": ".py",
   "mimetype": "text/x-python",
   "name": "python",
   "nbconvert_exporter": "python",
   "pygments_lexer": "ipython3",
   "version": "3.10.11"
  }
 },
 "nbformat": 4,
 "nbformat_minor": 2
}
