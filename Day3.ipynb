{
 "cells": [
  {
   "cell_type": "markdown",
   "metadata": {},
   "source": [
    "# Day3_1\n",
    "Write a program that works out whether if a given number is an odd or even number.\n",
    "\n",
    "Even numbers can be divided by 2 with no remainder.\n",
    "\n",
    "e.g. 86 is even because 86 ÷ 2 = 43\n",
    "\n",
    "43 does not have any decimal places. Therefore the division is clean.\n",
    "\n",
    "e.g. 59 is odd because 59 ÷ 2 = 29.5\n",
    "\n",
    "29.5 is not a whole number, it has decimal places. Therefore there is a remainder of 0.5, so the division is not clean."
   ]
  },
  {
   "cell_type": "code",
   "execution_count": 1,
   "metadata": {},
   "outputs": [
    {
     "name": "stdout",
     "output_type": "stream",
     "text": [
      "13 is not an even number.\n"
     ]
    }
   ],
   "source": [
    "num = int(input(\"Enter a whole number: \\n\"))\n",
    "if num%2 == 0:\n",
    "    print(f\"{num} is an even number! \")\n",
    "else: print(f\"{num} is not an even number.\")"
   ]
  },
  {
   "cell_type": "markdown",
   "metadata": {},
   "source": [
    "# Day3_2\n",
    "Write a program that interprets the Body Mass Index (BMI) based on a user's weight and height.\n",
    "\n",
    "It should tell them the interpretation of their BMI based on the BMI value.\n",
    "\n",
    "Under 18.5 they are underweight\n",
    "\n",
    "Over 18.5 but below 25 they have a normal weight\n",
    "\n",
    "Over 25 but below 30 they are slightly overweight\n",
    "\n",
    "Over 30 but below 35 they are obese\n",
    "\n",
    "Above 35 they are clinically obese."
   ]
  },
  {
   "cell_type": "code",
   "execution_count": null,
   "metadata": {},
   "outputs": [],
   "source": [
    "#We are going to cram the whole BMI calculation so try to keep up (Check previous days for the full code).\n",
    "\n",
    "BMI = (int(input(\"Enter your weight in Kg: \\n\"))  / (int(input(\"Enter your height in meters: \\n\"))) ** 2)\n",
    "BMI = round(BMI, 2)\n",
    "\n",
    "if BMI < 18.5 : print(\"You are underweight.\")\n",
    "elif BMI < 25: print(\"You have a normal weight.\")\n",
    "elif BMI < 30: print(\"You are obese.\")\n",
    "else: print(\"You are clinically obese.\") "
   ]
  },
  {
   "cell_type": "markdown",
   "metadata": {},
   "source": [
    "# Day3_3\n",
    "Write a program that works out whether if a given year is a leap year. A normal year has 365 days, leap years have 366, with an extra day in February. The reason why we have leap years is really fascinating, this video does it more justice:\n",
    "\n",
    "https://www.youtube.com/watch?v=xX96xng7sAE\n",
    "\n",
    "This is how you work out whether if a particular year is a leap year.\n",
    "\n",
    "on every year that is evenly divisible by 4 **except** every year that is evenly divisible by 100 **unless** the year is\n",
    "also evenly divisible by 400"
   ]
  },
  {
   "cell_type": "code",
   "execution_count": null,
   "metadata": {},
   "outputs": [],
   "source": [
    "#Now we know that a leap year is divisibe by 4 and now it should be divided by 400 but not 100\n",
    "year = int(input(\"Enter a year (preferably later than the year 400): \\n\"))\n",
    "if (year % 4 == 0) and (year % 100 != 0 or year % 400 == 0):\n",
    "    print(\"Leap Year.\")\n",
    "else: print(\"Not leap Year.\")"
   ]
  },
  {
   "cell_type": "markdown",
   "metadata": {},
   "source": [
    "# Day3_4\n",
    "Congratulations, you've got a job at Python Pizza. Your first job is to build an automatic pizza order program.\n",
    "\n",
    "Based on a user's order, work out their final bill.\n",
    "\n",
    "Small Pizza: $15\n",
    "\n",
    "Medium Pizza: $20\n",
    "\n",
    "Large Pizza: $25\n",
    "\n",
    "Pepperoni for Small Pizza: +$2\n",
    "\n",
    "Pepperoni for Medium or Large Pizza: +$3\n",
    "\n",
    "Extra cheese for any size pizza: + $1"
   ]
  },
  {
   "cell_type": "code",
   "execution_count": 16,
   "metadata": {},
   "outputs": [
    {
     "name": "stdout",
     "output_type": "stream",
     "text": [
      "Your Pizza costs: 23. Thank You.\n"
     ]
    }
   ],
   "source": [
    "size = input(\"Whats size of pizza are we talking? (S/ L/ M)\").upper()\n",
    "add_pepperoni = input(\"Pepeproni ?(Y/N)\").upper()\n",
    "extra_cheese = input(\"Etra cheese? (Y/N)\").upper()\n",
    "cost = 0\n",
    "if size == \"S\":\n",
    "    cost += 15\n",
    "    if add_pepperoni == \"Y\": cost += 2\n",
    "elif size == \"M\":\n",
    "    cost += 20\n",
    "    if add_pepperoni == \"Y\": cost += 3\n",
    "elif size == \"L\":\n",
    "    cost += 25\n",
    "    if add_pepperoni == \"Y\": cost += 3\n",
    "# since the price is the same accost all sizes\n",
    "if extra_cheese == \"Y\" : cost += 1\n",
    "print(f\"Your Pizza costs: {cost}. Thank You.\")"
   ]
  },
  {
   "cell_type": "markdown",
   "metadata": {},
   "source": [
    "# Day3_5\n",
    "You are going to write a program that tests the compatibility between two people.\n",
    "\n",
    "To work out the love score between two people:\n",
    "\n",
    "Take both people's names and check for the number of times the letters in the word TRUE occurs. Then check for the number of times the letters in the word LOVE occurs. Then combine these numbers to make a 2 digit number.\n",
    "\n",
    "For Love Scores less than 10 or greater than 90, the message should be:\n",
    "\n",
    "\"Your score is **x**, you go together like coke and mentos.\"\n",
    "\n",
    "For Love Scores between 40 and 50, the message should be:\n",
    "\n",
    "\"Your score is **y**, you are alright together.\"\n",
    "\n",
    "Otherwise, the message will just be their score. e.g.:\n",
    "\n",
    "\"Your score is **z**.\""
   ]
  },
  {
   "cell_type": "code",
   "execution_count": 22,
   "metadata": {},
   "outputs": [
    {
     "name": "stdout",
     "output_type": "stream",
     "text": [
      "your score is 55\n"
     ]
    }
   ],
   "source": [
    "name1 = input(\"Enter person1's Name: \")\n",
    "name2 = input(\"Enter person2's name: \")\n",
    "name2 = name1 + name2 #concatenate both names\n",
    "true = 0\n",
    "love  = 0\n",
    "for character in name2:\n",
    "    true += \"true\".count(character.lower()) #Make sure we're on the right case\n",
    "    love += \"love\".count(character.lower()) #Make sure we're on the right case\n",
    "true_love = true*10 + love #This way, if true = 5 and love = 4, true_love = 50 + 4 = 54\n",
    "\n",
    "if true_love < 10 or true_love > 90:\n",
    "    print(f\"Your score is {true_love}, you go together like coke and mentos.\") \n",
    "elif 40 <=  true_love <= 50 : \n",
    "    print(f\"Your score is {true_love}, you are alright together.\")\n",
    "else:\n",
    "    print(f\"your score is {true_love}\")"
   ]
  },
  {
   "cell_type": "markdown",
   "metadata": {},
   "source": [
    "# Day3 Final Projects: choose your own adventure. \n",
    "### (story by me)\n",
    "Make your own \"Choose Your Own Adventure\" game. Use conditionals such as if, else, and elif statements to lay out the logic and the story's path in your program."
   ]
  },
  {
   "cell_type": "code",
   "execution_count": null,
   "metadata": {},
   "outputs": [],
   "source": [
    "print(\"Oh Good, you're awake. You must now complete this puzzle to find your way out. 'HaHaHaHa'!!! Now be warned, your life depends on your decisions.\")\n",
    "\n",
    "choice = input(\"You look into your pocket, you find a key. Now, which door will it be? 'HaHaHa!!!' Red or Blue? (R/B): \")\n",
    "if choice.upper() == \"R\":\n",
    "    print(\"Good! Now it seems like you might just survive, but be quick, the sand under your feet is sinking...\")\n",
    "    choice = input(\"You look across and see light, but you're too hungry and you think you might not be thinking straight. Do you take the risk and run towards the fiery room or run into the abyss? (R/A): \")\n",
    "    if choice.upper() == \"R\":\n",
    "        print(\"Another one didn't make it. How did you not see that room was on fire?\\nYOU DIED!!!\")\n",
    "    else:\n",
    "        print(\"Brilliant, I do see hope in you. 'HaHaHaHa!!!'\")\n",
    "        choice = input(\"Who's the voice behind this, you said, before you knew it, a loud ROAR!!!! 'Is that a bear? Wait, I see a key around its neck. What do I do? Fight or flight (run)? (F/R): \")\n",
    "        if choice.upper() == \"F\":\n",
    "            print(\"The voice: Brave one!! But did you really think you could take a BEAR?!?! 'No, wait, what is this? Is the bear too hungry to fight?' No, that's not it. He made friends with the bear. 'NOOOOO!!! That can't be.' Now I have the key, time to get outta here. 'Cough cough' you made it outside the dungeon and realize it was all a dream.\")\n",
    "        else:\n",
    "            print(\"Fool, you can't leave without the key. Now you will die of starvation. 'HaHaHaHaHa!!!!'\")\n",
    "else:\n",
    "    print(\"I see you favor the cold Blue... Hmm. Now look in your pocket, I left a little gift for you, said the voice. You look and what is this? Bread!!! You were about to take a bite when you heard a voice. It appears someone was there with you and is yet to make a decision on which door to go, but he has seen others pick the wrong doors. He's too hungry to move. Will you give him bread or take it and move on?\")\n",
    "    choice = input(\"He said: Share your bread and I will give you my knowledge (Y/N): \")\n",
    "    if choice.upper() == \"Y\":\n",
    "        print(\"Thank you!! he said while eating hurriedly. He pointed and said, 'Go that way or you die.' You take his advice and you immediately find yourself in another room.\")\n",
    "        choice = input(\"You see a dog, starving just like you but you only have half the loaf left. Will you sacrifice again? (Y/N): \")\n",
    "        if choice.upper() == \"Y\":\n",
    "            print(\"Well there, my friend, said the voice, you have found your key out of here, now GO!!!! The dog shows you the way out of the dungeon. Then you wake up and realize it was a dream and your dog was right beside you waiting for you to wake.\")\n",
    "        else: \n",
    "            print(\"Now you will never find your way out. 'HaHaHaHa!!!!!'\")\n",
    "    else:\n",
    "        print(\"You ate the bread and left the rest to luck, the voice said. But unfortunately, luck does not exist; your decisions do. 'HaHaHaHaHa!!!' Now you pay with your life.\")\n"
   ]
  },
  {
   "cell_type": "code",
   "execution_count": 24,
   "metadata": {},
   "outputs": [
    {
     "name": "stdout",
     "output_type": "stream",
     "text": [
      "Oh Good, you're awake. You must now complete this puzzle to find your way out. 'HaHaHaHa'!!! Now be warned, your life depends on your decisions.\n",
      "\n",
      "        _____\n",
      "     __|_____|__\n",
      "    |  __ __  |\n",
      "    | |  |  | |\n",
      "    | |__|__| |\n",
      "    |  ____   |\n",
      "    | |    |  |\n",
      "    | |    |  |\n",
      "    | |____|__|\n",
      "    |_________|\n",
      "\n",
      "Good! Now it seems like you might just survive, but be quick, the sand under your feet is sinking...\n",
      "\n",
      "    \u001b[93m\n",
      "     . . . . o o o o o\n",
      "    . . . o o o o o o o o\n",
      "    . . o o o o o o o o o o\n",
      "    . . . o o o o o o o o\n",
      "     . . . . o o o o o\n",
      "    \n",
      "Another one didn't make it. How did you not see that room was on fire?\n",
      "YOU DIED!!!\n",
      "\n",
      "        \u001b[91m\n",
      "          (  .      )\n",
      "          )           (              )\n",
      "                .  '   .   '  .  '  .\n",
      "        (    , )       (.   )  (   ',    )\n",
      "         .' ) ( . )    ,  ( ,     )   ( .\n",
      "      ). , ( .   (  ) ( , ')  .' (  ,    )\n",
      "     (_,) . ), ) _) _,')  (, ) '. )  ,. (' )\n",
      "        ^^^^^^^^^^^^^^^^^^^^^^^^^^^^^^^^^^^^\n",
      "        \n"
     ]
    }
   ],
   "source": [
    "print(\"Oh Good, you're awake. You must now complete this puzzle to find your way out. 'HaHaHaHa'!!! Now be warned, your life depends on your decisions.\")\n",
    "\n",
    "print(\"\"\"\n",
    "        _____\n",
    "     __|_____|__\n",
    "    |  __ __  |\n",
    "    | |  |  | |\n",
    "    | |__|__| |\n",
    "    |  ____   |\n",
    "    | |    |  |\n",
    "    | |    |  |\n",
    "    | |____|__|\n",
    "    |_________|\n",
    "\"\"\")\n",
    "choice = input(\"You look into your pocket, you find a key. Now, which door will it be? 'HaHaHa!!!' Red or Blue? (R/B): \")\n",
    "if choice.upper() == \"R\":\n",
    "    print(\"Good! Now it seems like you might just survive, but be quick, the sand under your feet is sinking...\")\n",
    "    print(\"\"\"\n",
    "    \\033[93m\n",
    "     . . . . o o o o o\n",
    "    . . . o o o o o o o o\n",
    "    . . o o o o o o o o o o\n",
    "    . . . o o o o o o o o\n",
    "     . . . . o o o o o\n",
    "    \"\"\")\n",
    "    choice = input(\"You look across and see light, but you're too hungry and you think you might not be thinking straight.\\nDo you take the risk and run towards the fiery room or run into the abyss? (R/A): \")\n",
    "    if choice.upper() == \"R\":\n",
    "        print(\"Another one didn't make it. How did you not see that room was on fire?\\nYOU DIED!!!\")\n",
    "        print(\"\"\"\n",
    "        \\033[91m\n",
    "          (  .      )\n",
    "          )           (              )\n",
    "                .  '   .   '  .  '  .\n",
    "        (    , )       (.   )  (   ',    )\n",
    "         .' ) ( . )    ,  ( ,     )   ( .\n",
    "      ). , ( .   (  ) ( , ')  .' (  ,    )\n",
    "     (_,) . ), ) _) _,')  (, ) '. )  ,. (' )\n",
    "        ^^^^^^^^^^^^^^^^^^^^^^^^^^^^^^^^^^^^\n",
    "        \"\"\")\n",
    "    else:\n",
    "        print(\"Brilliant, I do see hope in you. 'HaHaHaHa!!!'\")\n",
    "        choice = input(\"Who's the voice behind this, you said, before you knew it, a loud ROAR!!!! 'Is that a bear? Wait, I see a key around its neck.\\n What do I do? Fight or flight (run)? (F/R): \")\n",
    "        if choice.upper() == \"F\":\n",
    "            print(\"The voice: Brave one!! But did you really think you could take a BEAR?!?! \\n'No, wait, what is this? Is the bear too hungry to fight?' No, that's not it.\\n He made friends with the bear. 'NOOOOO!!! That can't be.' \\nNow I have the key, time to get outta here. \\n'Cough cough' you made it outside the dungeon and realize it was all a dream.\")\n",
    "            print(\"\"\"\n",
    "            \\033[92m\n",
    "              __         __\n",
    "            .-||-.     .-||-.\n",
    "           /       \\   /       \\\\\n",
    "           |        |   |        |\n",
    "           \\       /   \\       /\n",
    "            '-||-'     '-||-'\n",
    "            \"\"\")\n",
    "        else:\n",
    "            print(\"Fool, you can't leave without the key. Now you will die of starvation. 'HaHaHaHaHa!!!!'\")\n",
    "            print(\"\"\"\n",
    "            \\033[91m\n",
    "            / \\\n",
    "           (   )\n",
    "            | |\n",
    "            | |\n",
    "            | |\n",
    "            | |\n",
    "           /   \\\n",
    "          |_____| \n",
    "            \"\"\")\n",
    "else:\n",
    "    print(\"I see you favor the cold Blue... Hmm. Now look in your pocket, I left a little gift for you, said the voice. \\nYou look and what is this? Bread!!! You were about to take a bite when you heard a voice. \\nIt appears someone was there with you and is yet to make a decision on which door to go, but he has seen others pick the wrong doors. \\nHe's too hungry to move. Will you give him bread or take it and move on?\")\n",
    "    choice = input(\"He said: Share your bread and I will give you my knowledge (Y/N): \")\n",
    "    if choice.upper() == \"Y\":\n",
    "        print(\"Thank you!! he said while eating hurriedly. He pointed and said, 'Go that way or you die.' You take his advice and you immediately find yourself in another room.\")\n",
    "        choice = input(\"You see a dog, starving just like you but you only have half the loaf left. Will you sacrifice again? (Y/N): \")\n",
    "        if choice == \"Y\":\n",
    "            print(\"Well there, my friend, said the voice, you have found your key out of here, now GO!!!! The dog shows you the way out of the dungeon. \\nThen you wake up and realize it was a dream and your dog was right beside you waiting for you to wake.\")\n",
    "            print(\"\"\"\n",
    "            \\033[94m\n",
    "             __      _\n",
    "            o'')}____//\n",
    "             `_/      )\n",
    "             (_(_/-(_/\n",
    "            \"\"\")\n",
    "        else:\n",
    "            print(\"Now you will never find your way out. 'HaHaHaHa!!!!!'\")\n",
    "            print(\"\"\"\n",
    "            \\033[91m\n",
    "             ,     ,\n",
    "            (\\____/)\n",
    "             (_oo_)\n",
    "               (O)\n",
    "             __||__    \\)\n",
    "          []/______\\[] /\n",
    "          / \\______/ \\/\n",
    "         /    /__\\\n",
    "        (\\   /____\\\n",
    "\n",
    "            \"\"\")\n",
    "    else:\n",
    "        print(\"You ate the bread and left the rest to luck, the voice said. \\nBut unfortunately, luck does not exist; your decisions do. \\n'HaHaHaHaHa!!!' Now you pay with your life.\")\n",
    "        print(\"\"\"\n",
    "        \\033[91m\n",
    "          __\n",
    "        /    \\\n",
    "       /__/\\_|\n",
    "        \\  /   \\\n",
    "         \\/__/\n",
    "        \"\"\")\n"
   ]
  },
  {
   "cell_type": "code",
   "execution_count": null,
   "metadata": {},
   "outputs": [],
   "source": []
  }
 ],
 "metadata": {
  "kernelspec": {
   "display_name": "Python 3",
   "language": "python",
   "name": "python3"
  },
  "language_info": {
   "codemirror_mode": {
    "name": "ipython",
    "version": 3
   },
   "file_extension": ".py",
   "mimetype": "text/x-python",
   "name": "python",
   "nbconvert_exporter": "python",
   "pygments_lexer": "ipython3",
   "version": "3.10.11"
  }
 },
 "nbformat": 4,
 "nbformat_minor": 2
}
