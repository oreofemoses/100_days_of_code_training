{
 "cells": [
  {
   "cell_type": "markdown",
   "metadata": {},
   "source": [
    "# Day 2_1 \n",
    "#### Write a program that adds the digits in a 2 digit number. e.g. if the input was 35, then the output should be 3 + 5 = 8"
   ]
  },
  {
   "cell_type": "code",
   "execution_count": 4,
   "metadata": {},
   "outputs": [
    {
     "name": "stdout",
     "output_type": "stream",
     "text": [
      "2 + 1 = 3\n"
     ]
    }
   ],
   "source": [
    "#We declare our values \n",
    "num = input(\"Enter a 2 digit number: \")\n",
    "#Since th number is a string, we then extract the vaues by indexing.\n",
    "a = int(num[0]) \n",
    "b = int(num[1])\n",
    "\n",
    "\n",
    "# Alternative algorithm Considering we have an integer input\n",
    "# num = int(input(\"Enter a 2 digit number: \"))\n",
    "# a = num // 10\n",
    "# b = num % 10\n",
    "\n",
    "\n",
    "sum_ = a + b\n",
    "print(f\"{a} + {b} = {sum_}\")"
   ]
  },
  {
   "cell_type": "markdown",
   "metadata": {},
   "source": [
    "# Day 2_2 Exercise: \n",
    "Write a program that calculates the Body Mass Index (BMI) from a user's weight and height.\n",
    "\n",
    "The BMI is a measure of some's weight taking into account their height. e.g. If a tall person and a short person both weigh the same amount, the short person is usually more overweight.\n",
    "\n",
    "The BMI is calculated by dividing a person's weight (in kg) by the square of their height (in m):\n",
    "\n",
    "#### Warning you should convert the result to a whole number"
   ]
  },
  {
   "cell_type": "code",
   "execution_count": 6,
   "metadata": {},
   "outputs": [
    {
     "name": "stdout",
     "output_type": "stream",
     "text": [
      "Your BMI is 26\n"
     ]
    }
   ],
   "source": [
    "weight = float(input(\"Enter your weight in Kg: \\n\"))\n",
    "height = float(input(\"Enter your height in meters(m): \\n\"))\n",
    "#Then calculate the BMI and convert to whole number using the int() method {THIS IS NOT THE SAME AS ROUNDING OFF}\n",
    "BMI = int(weight / (height ** 2))\n",
    "print(f\"Your BMI is {BMI}\")"
   ]
  },
  {
   "cell_type": "markdown",
   "metadata": {},
   "source": [
    "# Day2_3\n",
    "Create a program using maths and f-Strings that tells us how many days, weeks, months we have left if we live until 90 years old.\n",
    "\n",
    "It will take your current age as the input and output a message with our time left in this format:\n",
    "\n",
    "You have x days, y weeks, and z months left.\n",
    "\n",
    "Where x, y and z are replaced with the actual calculated numbers."
   ]
  },
  {
   "cell_type": "code",
   "execution_count": 12,
   "metadata": {},
   "outputs": [
    {
     "name": "stdout",
     "output_type": "stream",
     "text": [
      "You have 25915 days, 3692 weeks, and 852 months left.\n"
     ]
    }
   ],
   "source": [
    "age = int(input(\"Enter your age in years: \\n\"))\n",
    "years_left = 90 - age #Assuming we don't live past 90\n",
    "months_left = 12 * years_left\n",
    "weeks_left = 52 * years_left\n",
    "days_left = 365 * years_left\n",
    "\n",
    "print(f\"You have {days_left} days, {weeks_left} weeks, and {months_left} months left.\")"
   ]
  },
  {
   "cell_type": "markdown",
   "metadata": {},
   "source": [
    "# Day 2 Final Exercise:\n",
    "If the bill was $150.00, split between 5 people, with 12% tip.\n",
    "\n",
    "Each person should pay (150.00 / 5) * 1.12 = 33.6\n",
    "\n",
    "Format the result to 2 decimal places = 33.60\n",
    "\n",
    "Thus everyone's share of the total bill is $30.00 plus a $3.60 tip."
   ]
  },
  {
   "cell_type": "code",
   "execution_count": 13,
   "metadata": {},
   "outputs": [
    {
     "name": "stdout",
     "output_type": "stream",
     "text": [
      "Done! Each person pays: $19.93\n"
     ]
    }
   ],
   "source": [
    "bill = float(input(\"What is the total bill? \\n$\"))\n",
    "tip = float(input(\"What percent tip are we talking? \\n\"))\n",
    "num_split = int(input(\"We're splitting between how many? \\n\"))\n",
    "total_bill = bill + (bill * (tip/100)) # bill + tip percent bill\n",
    "individual_bill = round(total_bill/num_split, 2) #Round to 2 decimals.\n",
    "print(f\"Done! Each person pays: ${individual_bill}\")"
   ]
  }
 ],
 "metadata": {
  "kernelspec": {
   "display_name": "Python 3",
   "language": "python",
   "name": "python3"
  },
  "language_info": {
   "codemirror_mode": {
    "name": "ipython",
    "version": 3
   },
   "file_extension": ".py",
   "mimetype": "text/x-python",
   "name": "python",
   "nbconvert_exporter": "python",
   "pygments_lexer": "ipython3",
   "version": "3.10.11"
  }
 },
 "nbformat": 4,
 "nbformat_minor": 2
}
