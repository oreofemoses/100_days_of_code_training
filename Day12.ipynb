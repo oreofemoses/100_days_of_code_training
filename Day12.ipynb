{
 "cells": [
  {
   "cell_type": "markdown",
   "metadata": {},
   "source": [
    "# Day 12 Final: Guess The Number!\n"
   ]
  },
  {
   "cell_type": "code",
   "execution_count": 4,
   "metadata": {},
   "outputs": [
    {
     "name": "stdout",
     "output_type": "stream",
     "text": [
      "Choose a difficulty 'easy' or 'hard' easy\n",
      "59\n",
      "You have 10 guesses left \n",
      "Guess the number: 10\n",
      "Too small!\n",
      "You have 9 guesses left \n",
      "Guess the number: 50\n",
      "Too small!\n",
      "You have 8 guesses left \n",
      "Guess the number: 60\n",
      "Too High!\n",
      "You have 7 guesses left \n",
      "Guess the number: 55\n",
      "Too small!\n",
      "You have 6 guesses left \n",
      "Guess the number: 56\n",
      "Too small!\n",
      "You have 5 guesses left \n",
      "Guess the number: 57\n",
      "Too small!\n",
      "You have 4 guesses left \n",
      "Guess the number: 58\n",
      "Too small!\n",
      "You have 3 guesses left \n",
      "Guess the number: 54\n",
      "Too small!\n",
      "You have 2 guesses left \n",
      "Guess the number: 56\n",
      "Too small!\n",
      "You have 1 guesses left \n",
      "Guess the number: 59\n",
      "You guessed right!\n"
     ]
    }
   ],
   "source": [
    "#Number Guessing Game Objectives:\n",
    "\n",
    "# Include an ASCII art logo.\n",
    "# Allow the player to submit a guess for a number between 1 and 100.\n",
    "# Check user's guess against actual answer. Print \"Too high.\" or \"Too low.\" depending on the user's answer. \n",
    "# If they got the answer correct, show the actual answer to the player.\n",
    "# Track the number of turns remaining.\n",
    "# If they run out of turns, provide feedback to the player. \n",
    "# Include two different difficulty levels (e.g., 10 guesses in easy mode, only 5 guesses in hard mode).\n",
    "import random\n",
    "\n",
    "rand_number = random.randint(1,100)\n",
    "difficulty = input(\"Choose a difficulty 'easy' or 'hard' \")\n",
    "guesses_left = {'hard' : 5, 'easy' : 10}.get(difficulty, 0)\n",
    "guess = int()\n",
    "print(rand_number)\n",
    "while guess != rand_number and guesses_left > 0:\n",
    "    guess = int(input(f\"You have {guesses_left} guesses left \\nGuess the number: \"))\n",
    "    if guess == rand_number:\n",
    "        print(\"You guessed right!\")\n",
    "    elif guess > rand_number:\n",
    "        print(\"Too High!\")\n",
    "    elif guess < rand_number:\n",
    "        print(\"Too small!\")\n",
    "    guesses_left -= 1\n",
    "if guess != rand_number:\n",
    "    print(\"You ran out of Guesses!\")"
   ]
  },
  {
   "cell_type": "code",
   "execution_count": null,
   "metadata": {},
   "outputs": [],
   "source": []
  }
 ],
 "metadata": {
  "kernelspec": {
   "display_name": "Python 3 (ipykernel)",
   "language": "python",
   "name": "python3"
  },
  "language_info": {
   "codemirror_mode": {
    "name": "ipython",
    "version": 3
   },
   "file_extension": ".py",
   "mimetype": "text/x-python",
   "name": "python",
   "nbconvert_exporter": "python",
   "pygments_lexer": "ipython3",
   "version": "3.10.11"
  }
 },
 "nbformat": 4,
 "nbformat_minor": 2
}
