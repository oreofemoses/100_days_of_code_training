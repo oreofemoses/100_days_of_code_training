{
 "cells": [
  {
   "cell_type": "markdown",
   "metadata": {},
   "source": [
    "# Day_1_2 Coding Exercise: \n",
    "\n",
    "#Fix the code below 👇\n",
    "\n",
    "print(Day 1 - String Manipulation\")\n",
    "\n",
    "print(\"String Concatenation is done with the \"+\" sign.\")\n",
    "\n",
    "  print('e.g. print(\"Hello \" + \"world\")')\n",
    "  \n",
    "print((\"New lines can be created with a backslash and n.\")"
   ]
  },
  {
   "cell_type": "code",
   "execution_count": 2,
   "metadata": {},
   "outputs": [
    {
     "name": "stdout",
     "output_type": "stream",
     "text": [
      "Day 1 - String Manipulation\n",
      "String Concatenation is done with the  sign.\n",
      "e.g. print(\"Hello \" + \"world\")\n",
      "New lines can be created with a backslash and n.\n"
     ]
    }
   ],
   "source": [
    "#Solution 👇: \n",
    "\n",
    "print(\"Day 1 - String Manipulation\")\n",
    "print(\"String Concatenation is done with the \"+\" sign.\")\n",
    "print('e.g. print(\"Hello \" + \"world\")')\n",
    "print(\"New lines can be created with a backslash and n.\")"
   ]
  },
  {
   "cell_type": "markdown",
   "metadata": {},
   "source": [
    "# Day 1_3 Exercise\n",
    "\n",
    "Write a program that prints the number of characters in a user's name. You might need to Google for a function that calculates the length of a string."
   ]
  },
  {
   "cell_type": "code",
   "execution_count": 1,
   "metadata": {},
   "outputs": [
    {
     "name": "stdout",
     "output_type": "stream",
     "text": [
      "Your name is 6 characters long.\n"
     ]
    }
   ],
   "source": [
    "#Solution 👇:\n",
    "name = input(\"Tell me your name: \")\n",
    "name_length = len(name)\n",
    "print(f\"Your name is {name_length} characters long.\")"
   ]
  },
  {
   "cell_type": "markdown",
   "metadata": {},
   "source": [
    "# Day 1_4 Exercise\n",
    "Write a program that switches the values stored in the variables a and b.\n",
    "\n",
    "Warning. Do not change the code on lines 1-4 and 12-18. Your program should work for different inputs. e.g. any value of a and b"
   ]
  },
  {
   "cell_type": "code",
   "execution_count": 3,
   "metadata": {},
   "outputs": [
    {
     "name": "stdout",
     "output_type": "stream",
     "text": [
      "2 1\n"
     ]
    }
   ],
   "source": [
    "#Solution 👇:\n",
    "a = 1\n",
    "b = 2\n",
    "#to store we need a temporary variable c to hold the value of a before switching to b\n",
    "c = a\n",
    "#Now we swap the values of a and b\n",
    "a = b\n",
    "b= c\n",
    "#Check to confirm it works: \n",
    "print(a,b)"
   ]
  },
  {
   "cell_type": "markdown",
   "metadata": {},
   "source": [
    "# Day 1 Final Code Exercise:\n",
    "## Band Name Generator"
   ]
  },
  {
   "cell_type": "code",
   "execution_count": 4,
   "metadata": {},
   "outputs": [
    {
     "name": "stdout",
     "output_type": "stream",
     "text": [
      "Greetings, welcome, They call me the name maker 😁, I'd be delighted to help you name you Band 🎸\n",
      "Your awesome band name is 🎵 AGIikorodu, And You're welcome, HaHaHa!\n"
     ]
    }
   ],
   "source": [
    "#1. Create a greeting for your program.\n",
    "print(\"Greetings, welcome, They call me the name maker 😁, I'd be delighted to help you name you Band 🎸\")\n",
    "#2. Ask the user for the city that they grew up in.\n",
    "city = input(\"Now tell me, What city are you From? \\n\")\n",
    "#3. Ask the user for the name of a pet.\n",
    "pet = input(\"Great!! Now what is the name of your pet? 😄\\n\")\n",
    "#4. Combine the name of their city and pet and show them their band name.\n",
    "print(f\"Your awesome band name is 🎵 {city+pet}, And You're welcome, HaHaHa!\")\n",
    "#5. Make sure the input cursor shows on a new line:\n",
    "\n"
   ]
  }
 ],
 "metadata": {
  "kernelspec": {
   "display_name": "Python 3",
   "language": "python",
   "name": "python3"
  },
  "language_info": {
   "codemirror_mode": {
    "name": "ipython",
    "version": 3
   },
   "file_extension": ".py",
   "mimetype": "text/x-python",
   "name": "python",
   "nbconvert_exporter": "python",
   "pygments_lexer": "ipython3",
   "version": "3.10.11"
  }
 },
 "nbformat": 4,
 "nbformat_minor": 2
}
