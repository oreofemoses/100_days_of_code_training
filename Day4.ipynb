{
 "cells": [
  {
   "cell_type": "markdown",
   "metadata": {},
   "source": [
    "# Day4_1 \n",
    "You are going to write a virtual coin toss program. It will randomly tell the user \"Heads\" or \"Tails\".\n",
    "\n",
    "Important, the first letter should be capitalised and spelt exactly like in the example e.g. Heads, not heads.\n",
    "\n",
    "There are many ways of doing this. But to practice what we learnt in the last lesson, you should generate a random number, either 0 or 1. Then use that number to print out Heads or Tails.\n",
    "\n",
    "e.g. 1 means Heads 0 means Tails"
   ]
  },
  {
   "cell_type": "code",
   "execution_count": 23,
   "metadata": {},
   "outputs": [
    {
     "name": "stdout",
     "output_type": "stream",
     "text": [
      "Heads or Tails!\n",
      "\n",
      "Tails\n"
     ]
    }
   ],
   "source": [
    "import random\n",
    "random_num = random.randint(0,1)\n",
    "print(\"Heads or Tails!\\n\")\n",
    "if random_num == 1 : \n",
    "    print(\"Heads\")\n",
    "else: print(\"Tails\")\n"
   ]
  },
  {
   "cell_type": "markdown",
   "metadata": {},
   "source": [
    "# Day4_2 \n",
    "You are going to write a program which will select a random name from a list of names. The person selected will have to pay for everybody's food bill.\n",
    "\n",
    "Important: You are not allowed to use the choice() function.\n",
    "\n",
    "Line 8 splits the string names_string into individual names and puts them inside a List called names. For this to work, you must enter all the names as name followed by comma then space. e.g. name, name, name\n",
    "\n",
    "Example Input\n",
    "**Angela, Ben, Jenny, Michael, Chloe**\n",
    "\n",
    "Note: notice that there is a space between the comma and the next name.\n",
    "\n",
    "Example Output\n",
    "**Michael is going to buy the meal today!**"
   ]
  },
  {
   "cell_type": "code",
   "execution_count": 31,
   "metadata": {},
   "outputs": [
    {
     "name": "stdout",
     "output_type": "stream",
     "text": [
      "ore is going to buy the meal today!\n"
     ]
    }
   ],
   "source": [
    "names = input(\"Who's buying?\\nEnter your names below:\\n\")\n",
    "#Convert the names separated by a comma and a whitespace \", \" into a list of names\n",
    "names_list = names.split(\", \")\n",
    "#Extract a random name from the list of names!\n",
    "random_name = random.choice(names_list)\n",
    "#Print your results.\n",
    "print(f\"{random_name} is going to buy the meal today!\")"
   ]
  },
  {
   "cell_type": "markdown",
   "metadata": {},
   "source": [
    "# Day4_3\n",
    "You are going to write a program which will mark a spot with an X.\n",
    "\n",
    "In the starting code, you will find a variable called map.\n",
    "\n",
    "This map contains a nested list. When map is printed this is what the nested list looks like:\n",
    "\n",
    "['⬜️', '⬜️', '⬜️'],\n",
    "['⬜️', '⬜️', '⬜️'],\n",
    "['⬜️', '⬜️', '⬜️']\n",
    "## Example Input 1\n",
    "column 2, row 3 would be entered as:\n",
    "\n",
    "23\n",
    "\n",
    "## Example Output 1\n",
    "['⬜️', '⬜️', '⬜️']\n",
    "\n",
    "['⬜️', '⬜️', '⬜️']\n",
    "\n",
    "['⬜️', 'X', '⬜️']\n"
   ]
  },
  {
   "cell_type": "code",
   "execution_count": 42,
   "metadata": {},
   "outputs": [
    {
     "name": "stdout",
     "output_type": "stream",
     "text": [
      "['⬜️', '⬜️', '⬜️']\n",
      "['⬜️', '⬜️', '⬜️']\n",
      "['⬜️', '⬜️', '⬜️']\n",
      "\n",
      "\n",
      "['⬜️', '⬜️', '⬜️']\n",
      "['⬜️', '⬜️', '⬜️']\n",
      "['⬜️', '💰', '⬜️']\n"
     ]
    }
   ],
   "source": [
    "#Declare the MAP\n",
    "# 🚨 Don't change the code below 👇\n",
    "row1 = [\"⬜️\",\"⬜️\",\"⬜️\"]\n",
    "row2 = [\"⬜️\",\"⬜️\",\"⬜️\"]\n",
    "row3 = [\"⬜️\",\"⬜️\",\"⬜️\"]\n",
    "map = [row1, row2, row3]\n",
    "print(f\"{row1}\\n{row2}\\n{row3}\\n\\n\")\n",
    "position = input(\"Where do you want to put the treasure? \")\n",
    "# 🚨 Don't change the code above 👆\n",
    "\n",
    "#Write your code below this row 👇\n",
    "col_axis = int(position[0]) -1\n",
    "row_axis = int(position[1]) -1\n",
    "map[row_axis][col_axis] = '💰'\n",
    "#Write your code above this row 👆\n",
    "\n",
    "# 🚨 Don't change the code below 👇\n",
    "print(f\"{map[0]}\\n{map[1]}\\n{map[2]}\")"
   ]
  },
  {
   "cell_type": "markdown",
   "metadata": {},
   "source": [
    "# Day4 Final Exercise: Rock Paper Scissors\n",
    "Make a rock, paper, scissors game.\n",
    "\n",
    "Inside the main.py file, you'll find the ASCII art for the hand signals already saved to a corresponding variable: rock, paper, and scissors. This will make it easy to print them out to the console.\n",
    "\n",
    "Start the game by asking the player:\n",
    "\n",
    "\"What do you choose? Type 0 for Rock, 1 for Paper or 2 for Scissors.\"\n",
    "\n",
    "From there you will need to figure out:\n",
    "\n",
    "How you will store the user's input.\n",
    "\n",
    "How you will generate a random choice for the computer.\n",
    "\n",
    "How you will compare the user's and the computer's choice to determine the winner (or a draw).\n",
    "\n",
    "And also how you will give feedback to the player."
   ]
  },
  {
   "cell_type": "code",
   "execution_count": 49,
   "metadata": {},
   "outputs": [
    {
     "name": "stdout",
     "output_type": "stream",
     "text": [
      "You played\n",
      "\n",
      "    _______\n",
      "---'   ____)____\n",
      "          ______)\n",
      "       __________)\n",
      "      (____)\n",
      "---.__(___)\n",
      "\n",
      " And computer played\n",
      "\n",
      "    _______\n",
      "---'   ____)\n",
      "      (_____)\n",
      "      (_____)\n",
      "      (____)\n",
      "---.__(___)\n",
      "\n",
      "You lost!!\n"
     ]
    }
   ],
   "source": [
    "rock = '''\n",
    "    _______\n",
    "---'   ____)\n",
    "      (_____)\n",
    "      (_____)\n",
    "      (____)\n",
    "---.__(___)\n",
    "'''\n",
    "\n",
    "paper = '''\n",
    "    _______\n",
    "---'   ____)____\n",
    "          ______)\n",
    "          _______)\n",
    "         _______)\n",
    "---.__________)\n",
    "'''\n",
    "\n",
    "scissors = '''\n",
    "    _______\n",
    "---'   ____)____\n",
    "          ______)\n",
    "       __________)\n",
    "      (____)\n",
    "---.__(___)\n",
    "'''\n",
    "\n",
    "#Write your code below this line 👇\n",
    "#lets store the graphics to be used later\n",
    "plays = ['R' , rock, 'P', paper, 'S', scissors]#This will help with printing different plays\n",
    "player = input(\"Welcome, lets see if you can beat me, Rock Paper Scissors (R/ P/ S): \").upper()\n",
    "computer = random.choice(['R', 'p', 'S'])\n",
    "#for player to win, here are the possible outcomes wehre the first play is for player RS, SP, PR\n",
    "win = ['RS', 'SP', 'PR']\n",
    "print(f\"You played\\n{plays[plays.index(player) + 1]}\\n And computer played\\n{plays[plays.index(computer) + 1]}\")\n",
    "if player+computer in win: print(\"You win!!\")\n",
    "elif player == computer: print(\"It's a tie!!\")\n",
    "else: print(\"You lost!!\")\n",
    "\n"
   ]
  }
 ],
 "metadata": {
  "kernelspec": {
   "display_name": "Python 3",
   "language": "python",
   "name": "python3"
  },
  "language_info": {
   "codemirror_mode": {
    "name": "ipython",
    "version": 3
   },
   "file_extension": ".py",
   "mimetype": "text/x-python",
   "name": "python",
   "nbconvert_exporter": "python",
   "pygments_lexer": "ipython3",
   "version": "3.10.11"
  }
 },
 "nbformat": 4,
 "nbformat_minor": 2
}
